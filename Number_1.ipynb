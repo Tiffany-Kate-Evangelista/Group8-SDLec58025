{
  "nbformat": 4,
  "nbformat_minor": 0,
  "metadata": {
    "colab": {
      "provenance": [],
      "authorship_tag": "ABX9TyPeGWyO4WSj76J6DjK8yrgv",
      "include_colab_link": true
    },
    "kernelspec": {
      "name": "python3",
      "display_name": "Python 3"
    },
    "language_info": {
      "name": "python"
    }
  },
  "cells": [
    {
      "cell_type": "markdown",
      "metadata": {
        "id": "view-in-github",
        "colab_type": "text"
      },
      "source": [
        "<a href=\"https://colab.research.google.com/github/Tiffany-Kate-Evangelista/Group8-SDLec58025/blob/Activity-1/Number_1.ipynb\" target=\"_parent\"><img src=\"https://colab.research.google.com/assets/colab-badge.svg\" alt=\"Open In Colab\"/></a>"
      ]
    },
    {
      "cell_type": "code",
      "execution_count": 1,
      "metadata": {
        "colab": {
          "base_uri": "https://localhost:8080/",
          "height": 543
        },
        "id": "MzmxHwRJCPwo",
        "outputId": "b4957433-1430-4758-96df-0bf9a4fe3984"
      },
      "outputs": [
        {
          "name": "stdout",
          "output_type": "stream",
          "text": [
            "Your points are:  10\n",
            "How much is 5 x 2? 10\n",
            "You are correct!\n",
            "Your points are:  15\n",
            "How much is 8 x 1? 1\n",
            "Incorrect, please try again.\n",
            "Your points are:  10\n",
            "How much is 8 x 1? 1\n",
            "Incorrect, please try again.\n",
            "Your points are:  5\n",
            "How much is 8 x 1? 2\n",
            "Incorrect, please try again.\n",
            "Your points are:  0\n",
            "Game Over!\n",
            "Do you want to exit (e) or reset points (r): r\n",
            "How much is 4 x 7? 1\n",
            "Incorrect, please try again.\n",
            "Your points are:  5\n",
            "How much is 4 x 7? 2\n",
            "Incorrect, please try again.\n",
            "Your points are:  0\n",
            "Game Over!\n",
            "Do you want to exit (e) or reset points (r): e\n"
          ]
        },
        {
          "output_type": "error",
          "ename": "SystemExit",
          "evalue": "",
          "traceback": [
            "An exception has occurred, use %tb to see the full traceback.\n",
            "\u001b[0;31mSystemExit\u001b[0m\n"
          ]
        },
        {
          "output_type": "stream",
          "name": "stderr",
          "text": [
            "/usr/local/lib/python3.10/dist-packages/IPython/core/interactiveshell.py:3561: UserWarning: To exit: use 'exit', 'quit', or Ctrl-D.\n",
            "  warn(\"To exit: use 'exit', 'quit', or Ctrl-D.\", stacklevel=1)\n"
          ]
        }
      ],
      "source": [
        "import random\n",
        "import sys\n",
        "\n",
        "points = 10\n",
        "print(\"Your points are: \", points)\n",
        "\n",
        "while points > 0:\n",
        "    num1 = random.randint(1, 9)\n",
        "    num2 = random.randint(1, 9)\n",
        "\n",
        "    answer = num1 * num2\n",
        "\n",
        "    while True:\n",
        "        user_answer = int(input(f\"How much is {num1} x {num2}? \"))\n",
        "\n",
        "        if user_answer == answer:\n",
        "            print(\"You are correct!\")\n",
        "            points += 5\n",
        "            print(\"Your points are: \", points)\n",
        "            break\n",
        "        else:\n",
        "            print(\"Incorrect, please try again.\")\n",
        "            points -= 5\n",
        "            print(\"Your points are: \", points)\n",
        "\n",
        "            if points == 0:\n",
        "                print(\"Game Over!\")\n",
        "                choice = input(\"Do you want to exit (e) or reset points (r): \").lower()\n",
        "                if choice == \"e\":\n",
        "                    sys.exit()\n",
        "                elif choice == \"r\":\n",
        "                    points = 10\n",
        "                    break\n",
        "                else:\n",
        "                    print(\"Invalid input. Exiting...\")\n",
        "                    sys.exit()\n"
      ]
    }
  ]
}