{
  "nbformat": 4,
  "nbformat_minor": 0,
  "metadata": {
    "colab": {
      "provenance": [],
      "authorship_tag": "ABX9TyMUpw/8HjigMYxMEevBvflq",
      "include_colab_link": true
    },
    "kernelspec": {
      "name": "python3",
      "display_name": "Python 3"
    },
    "language_info": {
      "name": "python"
    }
  },
  "cells": [
    {
      "cell_type": "markdown",
      "metadata": {
        "id": "view-in-github",
        "colab_type": "text"
      },
      "source": [
        "<a href=\"https://colab.research.google.com/github/Tiffany-Kate-Evangelista/Group8-SDLec58025/blob/Activity-1/Number_3.ipynb\" target=\"_parent\"><img src=\"https://colab.research.google.com/assets/colab-badge.svg\" alt=\"Open In Colab\"/></a>"
      ]
    },
    {
      "cell_type": "code",
      "execution_count": 1,
      "metadata": {
        "colab": {
          "base_uri": "https://localhost:8080/"
        },
        "id": "PKBvraALAUeM",
        "outputId": "f0a89ce7-c52f-4249-a95c-319d0a12ca66"
      },
      "outputs": [
        {
          "output_type": "stream",
          "name": "stdout",
          "text": [
            "Enter what you want to encrypt: Hello World\n",
            "Encrypted version: Ifmmp Xpsme\n"
          ]
        }
      ],
      "source": [
        "def encrypt(text):\n",
        "    encrypted_text = \"\"\n",
        "    for char in text:\n",
        "        if char.isalpha():\n",
        "            if char.islower():\n",
        "                encrypted_char = chr((ord(char) - 97 + 1) % 26 + 97)\n",
        "            else:\n",
        "                encrypted_char = chr((ord(char) - 65 + 1) % 26 + 65)\n",
        "        else:\n",
        "            encrypted_char = char\n",
        "        encrypted_text += encrypted_char\n",
        "    return encrypted_text\n",
        "\n",
        "\n",
        "original_word = input(\"Enter what you want to encrypt: \")\n",
        "\n",
        "\n",
        "encrypted_word = encrypt(original_word)\n",
        "\n",
        "# Print the encrypted word\n",
        "print(\"Encrypted version:\", encrypted_word)"
      ]
    }
  ]
}